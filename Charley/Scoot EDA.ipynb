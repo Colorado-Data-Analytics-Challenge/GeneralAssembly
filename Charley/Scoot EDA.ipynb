{
 "cells": [
  {
   "cell_type": "code",
   "execution_count": 49,
   "metadata": {},
   "outputs": [],
   "source": [
    "import pandas as pd\n",
    "import numpy as np\n",
    "import seaborn as sns\n",
    "from datetime import datetime"
   ]
  },
  {
   "cell_type": "code",
   "execution_count": 2,
   "metadata": {},
   "outputs": [],
   "source": [
    "df = pd.read_csv('../Shane/combined_scoots.csv')"
   ]
  },
  {
   "cell_type": "code",
   "execution_count": 3,
   "metadata": {},
   "outputs": [
    {
     "data": {
      "text/html": [
       "<div>\n",
       "<style scoped>\n",
       "    .dataframe tbody tr th:only-of-type {\n",
       "        vertical-align: middle;\n",
       "    }\n",
       "\n",
       "    .dataframe tbody tr th {\n",
       "        vertical-align: top;\n",
       "    }\n",
       "\n",
       "    .dataframe thead th {\n",
       "        text-align: right;\n",
       "    }\n",
       "</style>\n",
       "<table border=\"1\" class=\"dataframe\">\n",
       "  <thead>\n",
       "    <tr style=\"text-align: right;\">\n",
       "      <th></th>\n",
       "      <th>Unnamed: 0</th>\n",
       "      <th>id</th>\n",
       "      <th>location</th>\n",
       "      <th>code</th>\n",
       "      <th>captive</th>\n",
       "      <th>battery_level</th>\n",
       "      <th>date</th>\n",
       "    </tr>\n",
       "  </thead>\n",
       "  <tbody>\n",
       "    <tr>\n",
       "      <th>0</th>\n",
       "      <td>0</td>\n",
       "      <td>0205db30-ec8a-4ae6-8991-91ba014649dd</td>\n",
       "      <td>(39.748614, -105.006055)</td>\n",
       "      <td>NaN</td>\n",
       "      <td>False</td>\n",
       "      <td>49</td>\n",
       "      <td>2018-11-10 20:40:01</td>\n",
       "    </tr>\n",
       "    <tr>\n",
       "      <th>1</th>\n",
       "      <td>1</td>\n",
       "      <td>e399fc08-b7b9-4b44-a66d-5f293db7dec0</td>\n",
       "      <td>(39.75407333333333, -104.99461333333332)</td>\n",
       "      <td>NaN</td>\n",
       "      <td>False</td>\n",
       "      <td>67</td>\n",
       "      <td>2018-11-10 20:40:01</td>\n",
       "    </tr>\n",
       "    <tr>\n",
       "      <th>2</th>\n",
       "      <td>2</td>\n",
       "      <td>0447816a-c23b-49be-8d29-0dd77c9f0230</td>\n",
       "      <td>(39.74494166666667, -105.01014666666667)</td>\n",
       "      <td>NaN</td>\n",
       "      <td>False</td>\n",
       "      <td>16</td>\n",
       "      <td>2018-11-10 20:40:01</td>\n",
       "    </tr>\n",
       "    <tr>\n",
       "      <th>3</th>\n",
       "      <td>3</td>\n",
       "      <td>0e91f3a8-6980-49d8-929f-b4cef5f63994</td>\n",
       "      <td>(39.76009833333333, -105.004455)</td>\n",
       "      <td>NaN</td>\n",
       "      <td>False</td>\n",
       "      <td>32</td>\n",
       "      <td>2018-11-10 20:40:01</td>\n",
       "    </tr>\n",
       "    <tr>\n",
       "      <th>4</th>\n",
       "      <td>4</td>\n",
       "      <td>f0357c07-177c-4853-9a2f-821b137e23d7</td>\n",
       "      <td>(39.75899166666667, -105.01106333333334)</td>\n",
       "      <td>NaN</td>\n",
       "      <td>False</td>\n",
       "      <td>60</td>\n",
       "      <td>2018-11-10 20:40:01</td>\n",
       "    </tr>\n",
       "  </tbody>\n",
       "</table>\n",
       "</div>"
      ],
      "text/plain": [
       "   Unnamed: 0                                    id  \\\n",
       "0           0  0205db30-ec8a-4ae6-8991-91ba014649dd   \n",
       "1           1  e399fc08-b7b9-4b44-a66d-5f293db7dec0   \n",
       "2           2  0447816a-c23b-49be-8d29-0dd77c9f0230   \n",
       "3           3  0e91f3a8-6980-49d8-929f-b4cef5f63994   \n",
       "4           4  f0357c07-177c-4853-9a2f-821b137e23d7   \n",
       "\n",
       "                                   location  code  captive  battery_level  \\\n",
       "0                  (39.748614, -105.006055)   NaN    False             49   \n",
       "1  (39.75407333333333, -104.99461333333332)   NaN    False             67   \n",
       "2  (39.74494166666667, -105.01014666666667)   NaN    False             16   \n",
       "3          (39.76009833333333, -105.004455)   NaN    False             32   \n",
       "4  (39.75899166666667, -105.01106333333334)   NaN    False             60   \n",
       "\n",
       "                  date  \n",
       "0  2018-11-10 20:40:01  \n",
       "1  2018-11-10 20:40:01  \n",
       "2  2018-11-10 20:40:01  \n",
       "3  2018-11-10 20:40:01  \n",
       "4  2018-11-10 20:40:01  "
      ]
     },
     "execution_count": 3,
     "metadata": {},
     "output_type": "execute_result"
    }
   ],
   "source": [
    "df.head()"
   ]
  },
  {
   "cell_type": "code",
   "execution_count": 11,
   "metadata": {},
   "outputs": [],
   "source": [
    "df.drop(['Unnamed: 0'], axis = 1, inplace = True)"
   ]
  },
  {
   "cell_type": "code",
   "execution_count": 22,
   "metadata": {},
   "outputs": [
    {
     "data": {
      "text/plain": [
       "(196508, 6)"
      ]
     },
     "execution_count": 22,
     "metadata": {},
     "output_type": "execute_result"
    }
   ],
   "source": [
    "df.shape"
   ]
  },
  {
   "cell_type": "code",
   "execution_count": 23,
   "metadata": {},
   "outputs": [
    {
     "name": "stdout",
     "output_type": "stream",
     "text": [
      "<class 'pandas.core.frame.DataFrame'>\n",
      "RangeIndex: 196508 entries, 0 to 196507\n",
      "Data columns (total 6 columns):\n",
      "id               196508 non-null object\n",
      "location         196508 non-null object\n",
      "code             0 non-null float64\n",
      "captive          196508 non-null bool\n",
      "battery_level    196508 non-null int64\n",
      "date             196508 non-null object\n",
      "dtypes: bool(1), float64(1), int64(1), object(3)\n",
      "memory usage: 7.7+ MB\n"
     ]
    }
   ],
   "source": [
    "df.info()"
   ]
  },
  {
   "cell_type": "code",
   "execution_count": 24,
   "metadata": {},
   "outputs": [
    {
     "name": "stderr",
     "output_type": "stream",
     "text": [
      "/Users/charleydixon/anaconda3/lib/python3.6/site-packages/scipy/stats/stats.py:1713: FutureWarning: Using a non-tuple sequence for multidimensional indexing is deprecated; use `arr[tuple(seq)]` instead of `arr[seq]`. In the future this will be interpreted as an array index, `arr[np.array(seq)]`, which will result either in an error or a different result.\n",
      "  return np.add.reduce(sorted[indexer] * weights, axis=axis) / sumval\n",
      "/Users/charleydixon/anaconda3/lib/python3.6/site-packages/matplotlib/axes/_axes.py:6499: MatplotlibDeprecationWarning: \n",
      "The 'normed' kwarg was deprecated in Matplotlib 2.1 and will be removed in 3.1. Use 'density' instead.\n",
      "  alternative=\"'density'\", removal=\"3.1\")\n"
     ]
    },
    {
     "data": {
      "text/plain": [
       "<matplotlib.axes._subplots.AxesSubplot at 0x112c1c358>"
      ]
     },
     "execution_count": 24,
     "metadata": {},
     "output_type": "execute_result"
    },
    {
     "data": {
      "image/png": "[encoded data removed]",
      "text/plain": [
       "<Figure size 432x288 with 1 Axes>"
      ]
     },
     "metadata": {},
     "output_type": "display_data"
    }
   ],
   "source": [
    "sns.distplot(df['battery_level'])"
   ]
  },
  {
   "cell_type": "code",
   "execution_count": 30,
   "metadata": {},
   "outputs": [],
   "source": [
    "a = 'Charley, Dixon'"
   ]
  },
  {
   "cell_type": "code",
   "execution_count": 35,
   "metadata": {},
   "outputs": [
    {
     "data": {
      "text/plain": [
       "'Dixon'"
      ]
     },
     "execution_count": 35,
     "metadata": {},
     "output_type": "execute_result"
    }
   ],
   "source": [
    "a.split(', ')[1]"
   ]
  },
  {
   "cell_type": "code",
   "execution_count": 31,
   "metadata": {},
   "outputs": [
    {
     "data": {
      "text/plain": [
       "'Charley, Dixon'"
      ]
     },
     "execution_count": 31,
     "metadata": {},
     "output_type": "execute_result"
    }
   ],
   "source": [
    "a"
   ]
  },
  {
   "cell_type": "code",
   "execution_count": 38,
   "metadata": {},
   "outputs": [],
   "source": [
    "df['latitude'] = df['location'].map(lambda x: x.split(', ')[0][1:])"
   ]
  },
  {
   "cell_type": "code",
   "execution_count": 42,
   "metadata": {},
   "outputs": [],
   "source": [
    "df['longitude'] = df['location'].map(lambda x: x.split(', ')[1][:-1])"
   ]
  },
  {
   "cell_type": "code",
   "execution_count": 43,
   "metadata": {},
   "outputs": [
    {
     "data": {
      "text/html": [
       "<div>\n",
       "<style scoped>\n",
       "    .dataframe tbody tr th:only-of-type {\n",
       "        vertical-align: middle;\n",
       "    }\n",
       "\n",
       "    .dataframe tbody tr th {\n",
       "        vertical-align: top;\n",
       "    }\n",
       "\n",
       "    .dataframe thead th {\n",
       "        text-align: right;\n",
       "    }\n",
       "</style>\n",
       "<table border=\"1\" class=\"dataframe\">\n",
       "  <thead>\n",
       "    <tr style=\"text-align: right;\">\n",
       "      <th></th>\n",
       "      <th>id</th>\n",
       "      <th>location</th>\n",
       "      <th>code</th>\n",
       "      <th>captive</th>\n",
       "      <th>battery_level</th>\n",
       "      <th>date</th>\n",
       "      <th>latitude</th>\n",
       "      <th>longitude</th>\n",
       "    </tr>\n",
       "  </thead>\n",
       "  <tbody>\n",
       "    <tr>\n",
       "      <th>0</th>\n",
       "      <td>0205db30-ec8a-4ae6-8991-91ba014649dd</td>\n",
       "      <td>(39.748614, -105.006055)</td>\n",
       "      <td>NaN</td>\n",
       "      <td>False</td>\n",
       "      <td>49</td>\n",
       "      <td>2018-11-10 20:40:01</td>\n",
       "      <td>39.748614</td>\n",
       "      <td>-105.006055</td>\n",
       "    </tr>\n",
       "    <tr>\n",
       "      <th>1</th>\n",
       "      <td>e399fc08-b7b9-4b44-a66d-5f293db7dec0</td>\n",
       "      <td>(39.75407333333333, -104.99461333333332)</td>\n",
       "      <td>NaN</td>\n",
       "      <td>False</td>\n",
       "      <td>67</td>\n",
       "      <td>2018-11-10 20:40:01</td>\n",
       "      <td>39.75407333333333</td>\n",
       "      <td>-104.99461333333332</td>\n",
       "    </tr>\n",
       "    <tr>\n",
       "      <th>2</th>\n",
       "      <td>0447816a-c23b-49be-8d29-0dd77c9f0230</td>\n",
       "      <td>(39.74494166666667, -105.01014666666667)</td>\n",
       "      <td>NaN</td>\n",
       "      <td>False</td>\n",
       "      <td>16</td>\n",
       "      <td>2018-11-10 20:40:01</td>\n",
       "      <td>39.74494166666667</td>\n",
       "      <td>-105.01014666666667</td>\n",
       "    </tr>\n",
       "    <tr>\n",
       "      <th>3</th>\n",
       "      <td>0e91f3a8-6980-49d8-929f-b4cef5f63994</td>\n",
       "      <td>(39.76009833333333, -105.004455)</td>\n",
       "      <td>NaN</td>\n",
       "      <td>False</td>\n",
       "      <td>32</td>\n",
       "      <td>2018-11-10 20:40:01</td>\n",
       "      <td>39.76009833333333</td>\n",
       "      <td>-105.004455</td>\n",
       "    </tr>\n",
       "    <tr>\n",
       "      <th>4</th>\n",
       "      <td>f0357c07-177c-4853-9a2f-821b137e23d7</td>\n",
       "      <td>(39.75899166666667, -105.01106333333334)</td>\n",
       "      <td>NaN</td>\n",
       "      <td>False</td>\n",
       "      <td>60</td>\n",
       "      <td>2018-11-10 20:40:01</td>\n",
       "      <td>39.75899166666667</td>\n",
       "      <td>-105.01106333333334</td>\n",
       "    </tr>\n",
       "  </tbody>\n",
       "</table>\n",
       "</div>"
      ],
      "text/plain": [
       "                                     id  \\\n",
       "0  0205db30-ec8a-4ae6-8991-91ba014649dd   \n",
       "1  e399fc08-b7b9-4b44-a66d-5f293db7dec0   \n",
       "2  0447816a-c23b-49be-8d29-0dd77c9f0230   \n",
       "3  0e91f3a8-6980-49d8-929f-b4cef5f63994   \n",
       "4  f0357c07-177c-4853-9a2f-821b137e23d7   \n",
       "\n",
       "                                   location  code  captive  battery_level  \\\n",
       "0                  (39.748614, -105.006055)   NaN    False             49   \n",
       "1  (39.75407333333333, -104.99461333333332)   NaN    False             67   \n",
       "2  (39.74494166666667, -105.01014666666667)   NaN    False             16   \n",
       "3          (39.76009833333333, -105.004455)   NaN    False             32   \n",
       "4  (39.75899166666667, -105.01106333333334)   NaN    False             60   \n",
       "\n",
       "                  date           latitude            longitude  \n",
       "0  2018-11-10 20:40:01          39.748614          -105.006055  \n",
       "1  2018-11-10 20:40:01  39.75407333333333  -104.99461333333332  \n",
       "2  2018-11-10 20:40:01  39.74494166666667  -105.01014666666667  \n",
       "3  2018-11-10 20:40:01  39.76009833333333          -105.004455  \n",
       "4  2018-11-10 20:40:01  39.75899166666667  -105.01106333333334  "
      ]
     },
     "execution_count": 43,
     "metadata": {},
     "output_type": "execute_result"
    }
   ],
   "source": [
    "df.head()"
   ]
  },
  {
   "cell_type": "code",
   "execution_count": 51,
   "metadata": {},
   "outputs": [],
   "source": [
    "df['date_time'] = pd.to_datetime(df['date'])"
   ]
  },
  {
   "cell_type": "code",
   "execution_count": 60,
   "metadata": {},
   "outputs": [
    {
     "data": {
      "text/plain": [
       "0        2018-11-10 20:40:01\n",
       "1        2018-11-10 20:40:01\n",
       "2        2018-11-10 20:40:01\n",
       "3        2018-11-10 20:40:01\n",
       "4        2018-11-10 20:40:01\n",
       "5        2018-11-10 20:40:01\n",
       "6        2018-11-10 20:40:01\n",
       "7        2018-11-10 20:40:01\n",
       "8        2018-11-10 20:40:01\n",
       "9        2018-11-10 20:40:01\n",
       "10       2018-11-10 20:40:01\n",
       "11       2018-11-10 20:40:01\n",
       "12       2018-11-10 20:40:01\n",
       "13       2018-11-10 20:40:01\n",
       "14       2018-11-10 20:40:01\n",
       "15       2018-11-10 20:40:01\n",
       "16       2018-11-10 20:40:01\n",
       "17       2018-11-10 20:40:01\n",
       "18       2018-11-10 20:40:01\n",
       "19       2018-11-10 20:40:01\n",
       "20       2018-11-10 20:40:01\n",
       "21       2018-11-10 20:40:01\n",
       "22       2018-11-10 20:40:01\n",
       "23       2018-11-10 20:40:01\n",
       "24       2018-11-10 20:40:01\n",
       "25       2018-11-10 20:40:01\n",
       "26       2018-11-10 20:40:01\n",
       "27       2018-11-10 20:40:01\n",
       "28       2018-11-10 20:40:01\n",
       "29       2018-11-10 20:40:01\n",
       "                 ...        \n",
       "196478   2018-12-02 22:15:02\n",
       "196479   2018-12-02 22:15:02\n",
       "196480   2018-12-02 22:15:02\n",
       "196481   2018-12-02 22:15:02\n",
       "196482   2018-12-02 22:15:02\n",
       "196483   2018-12-02 22:15:02\n",
       "196484   2018-12-02 22:15:02\n",
       "196485   2018-12-02 22:15:02\n",
       "196486   2018-12-02 22:15:02\n",
       "196487   2018-12-02 22:15:02\n",
       "196488   2018-12-02 22:15:02\n",
       "196489   2018-12-02 22:15:02\n",
       "196490   2018-12-02 22:15:02\n",
       "196491   2018-12-02 22:15:02\n",
       "196492   2018-12-02 22:15:02\n",
       "196493   2018-12-02 22:15:02\n",
       "196494   2018-12-02 22:15:02\n",
       "196495   2018-12-02 22:15:02\n",
       "196496   2018-12-02 22:15:02\n",
       "196497   2018-12-02 22:15:02\n",
       "196498   2018-12-02 22:15:02\n",
       "196499   2018-12-02 22:15:02\n",
       "196500   2018-12-02 22:15:02\n",
       "196501   2018-12-02 22:15:02\n",
       "196502   2018-12-02 22:15:02\n",
       "196503   2018-12-02 22:15:02\n",
       "196504   2018-12-02 22:15:02\n",
       "196505   2018-12-02 22:15:02\n",
       "196506   2018-12-02 22:15:02\n",
       "196507   2018-12-02 22:15:02\n",
       "Name: date_time, Length: 196508, dtype: datetime64[ns]"
      ]
     },
     "execution_count": 60,
     "metadata": {},
     "output_type": "execute_result"
    }
   ],
   "source": [
    "df['date_time']"
   ]
  },
  {
   "cell_type": "code",
   "execution_count": 63,
   "metadata": {},
   "outputs": [],
   "source": [
    "df['day'] = df['date_time'].dt.date"
   ]
  },
  {
   "cell_type": "code",
   "execution_count": 66,
   "metadata": {},
   "outputs": [],
   "source": [
    "df['time'] = df['date_time'].dt.time"
   ]
  },
  {
   "cell_type": "code",
   "execution_count": 69,
   "metadata": {},
   "outputs": [],
   "source": [
    "df.drop('date_time', axis = 1, inplace = True)"
   ]
  },
  {
   "cell_type": "code",
   "execution_count": 70,
   "metadata": {},
   "outputs": [
    {
     "data": {
      "text/html": [
       "<div>\n",
       "<style scoped>\n",
       "    .dataframe tbody tr th:only-of-type {\n",
       "        vertical-align: middle;\n",
       "    }\n",
       "\n",
       "    .dataframe tbody tr th {\n",
       "        vertical-align: top;\n",
       "    }\n",
       "\n",
       "    .dataframe thead th {\n",
       "        text-align: right;\n",
       "    }\n",
       "</style>\n",
       "<table border=\"1\" class=\"dataframe\">\n",
       "  <thead>\n",
       "    <tr style=\"text-align: right;\">\n",
       "      <th></th>\n",
       "      <th>id</th>\n",
       "      <th>location</th>\n",
       "      <th>code</th>\n",
       "      <th>captive</th>\n",
       "      <th>battery_level</th>\n",
       "      <th>date</th>\n",
       "      <th>latitude</th>\n",
       "      <th>longitude</th>\n",
       "      <th>day</th>\n",
       "      <th>time</th>\n",
       "    </tr>\n",
       "  </thead>\n",
       "  <tbody>\n",
       "    <tr>\n",
       "      <th>0</th>\n",
       "      <td>0205db30-ec8a-4ae6-8991-91ba014649dd</td>\n",
       "      <td>(39.748614, -105.006055)</td>\n",
       "      <td>NaN</td>\n",
       "      <td>False</td>\n",
       "      <td>49</td>\n",
       "      <td>2018-11-10 20:40:01</td>\n",
       "      <td>39.748614</td>\n",
       "      <td>-105.006055</td>\n",
       "      <td>2018-11-10</td>\n",
       "      <td>20:40:01</td>\n",
       "    </tr>\n",
       "    <tr>\n",
       "      <th>1</th>\n",
       "      <td>e399fc08-b7b9-4b44-a66d-5f293db7dec0</td>\n",
       "      <td>(39.75407333333333, -104.99461333333332)</td>\n",
       "      <td>NaN</td>\n",
       "      <td>False</td>\n",
       "      <td>67</td>\n",
       "      <td>2018-11-10 20:40:01</td>\n",
       "      <td>39.75407333333333</td>\n",
       "      <td>-104.99461333333332</td>\n",
       "      <td>2018-11-10</td>\n",
       "      <td>20:40:01</td>\n",
       "    </tr>\n",
       "    <tr>\n",
       "      <th>2</th>\n",
       "      <td>0447816a-c23b-49be-8d29-0dd77c9f0230</td>\n",
       "      <td>(39.74494166666667, -105.01014666666667)</td>\n",
       "      <td>NaN</td>\n",
       "      <td>False</td>\n",
       "      <td>16</td>\n",
       "      <td>2018-11-10 20:40:01</td>\n",
       "      <td>39.74494166666667</td>\n",
       "      <td>-105.01014666666667</td>\n",
       "      <td>2018-11-10</td>\n",
       "      <td>20:40:01</td>\n",
       "    </tr>\n",
       "    <tr>\n",
       "      <th>3</th>\n",
       "      <td>0e91f3a8-6980-49d8-929f-b4cef5f63994</td>\n",
       "      <td>(39.76009833333333, -105.004455)</td>\n",
       "      <td>NaN</td>\n",
       "      <td>False</td>\n",
       "      <td>32</td>\n",
       "      <td>2018-11-10 20:40:01</td>\n",
       "      <td>39.76009833333333</td>\n",
       "      <td>-105.004455</td>\n",
       "      <td>2018-11-10</td>\n",
       "      <td>20:40:01</td>\n",
       "    </tr>\n",
       "    <tr>\n",
       "      <th>4</th>\n",
       "      <td>f0357c07-177c-4853-9a2f-821b137e23d7</td>\n",
       "      <td>(39.75899166666667, -105.01106333333334)</td>\n",
       "      <td>NaN</td>\n",
       "      <td>False</td>\n",
       "      <td>60</td>\n",
       "      <td>2018-11-10 20:40:01</td>\n",
       "      <td>39.75899166666667</td>\n",
       "      <td>-105.01106333333334</td>\n",
       "      <td>2018-11-10</td>\n",
       "      <td>20:40:01</td>\n",
       "    </tr>\n",
       "  </tbody>\n",
       "</table>\n",
       "</div>"
      ],
      "text/plain": [
       "                                     id  \\\n",
       "0  0205db30-ec8a-4ae6-8991-91ba014649dd   \n",
       "1  e399fc08-b7b9-4b44-a66d-5f293db7dec0   \n",
       "2  0447816a-c23b-49be-8d29-0dd77c9f0230   \n",
       "3  0e91f3a8-6980-49d8-929f-b4cef5f63994   \n",
       "4  f0357c07-177c-4853-9a2f-821b137e23d7   \n",
       "\n",
       "                                   location  code  captive  battery_level  \\\n",
       "0                  (39.748614, -105.006055)   NaN    False             49   \n",
       "1  (39.75407333333333, -104.99461333333332)   NaN    False             67   \n",
       "2  (39.74494166666667, -105.01014666666667)   NaN    False             16   \n",
       "3          (39.76009833333333, -105.004455)   NaN    False             32   \n",
       "4  (39.75899166666667, -105.01106333333334)   NaN    False             60   \n",
       "\n",
       "                  date           latitude            longitude         day  \\\n",
       "0  2018-11-10 20:40:01          39.748614          -105.006055  2018-11-10   \n",
       "1  2018-11-10 20:40:01  39.75407333333333  -104.99461333333332  2018-11-10   \n",
       "2  2018-11-10 20:40:01  39.74494166666667  -105.01014666666667  2018-11-10   \n",
       "3  2018-11-10 20:40:01  39.76009833333333          -105.004455  2018-11-10   \n",
       "4  2018-11-10 20:40:01  39.75899166666667  -105.01106333333334  2018-11-10   \n",
       "\n",
       "       time  \n",
       "0  20:40:01  \n",
       "1  20:40:01  \n",
       "2  20:40:01  \n",
       "3  20:40:01  \n",
       "4  20:40:01  "
      ]
     },
     "execution_count": 70,
     "metadata": {},
     "output_type": "execute_result"
    }
   ],
   "source": [
    "df.head()"
   ]
  },
  {
   "cell_type": "code",
   "execution_count": 71,
   "metadata": {},
   "outputs": [],
   "source": [
    "df.to_csv('../Charley/combined_scoots_w_lat_lon.csv', index = False)"
   ]
  },
  {
   "cell_type": "code",
   "execution_count": null,
   "metadata": {},
   "outputs": [],
   "source": []
  }
 ],
 "metadata": {
  "kernelspec": {
   "display_name": "Python 3",
   "language": "python",
   "name": "python3"
  },
  "language_info": {
   "codemirror_mode": {
    "name": "ipython",
    "version": 3
   },
   "file_extension": ".py",
   "mimetype": "text/x-python",
   "name": "python",
   "nbconvert_exporter": "python",
   "pygments_lexer": "ipython3",
   "version": "3.6.5"
  }
 },
 "nbformat": 4,
 "nbformat_minor": 2
}
