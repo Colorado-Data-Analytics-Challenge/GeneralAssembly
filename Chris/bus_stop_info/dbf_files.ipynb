{
 "cells": [
  {
   "cell_type": "code",
   "execution_count": 58,
   "metadata": {
    "collapsed": true
   },
   "outputs": [],
   "source": [
    "from dbfread import DBF\n",
    "from simpledbf import Dbf5\n",
    "import pandas as pd\n",
    "import seaborn as sns\n",
    "import matplotlib.pyplot as plt\n",
    "\n",
    "import time\n",
    "\n",
    "from geopy.geocoders import Nominatim\n",
    "\n",
    "%matplotlib inline"
   ]
  },
  {
   "cell_type": "code",
   "execution_count": 2,
   "metadata": {
    "collapsed": true
   },
   "outputs": [],
   "source": [
    "#for record in DBF(\"BusStops.dbf\"):\n",
    "#    print(record)"
   ]
  },
  {
   "cell_type": "markdown",
   "metadata": {},
   "source": [
    "# Bus Stops"
   ]
  },
  {
   "cell_type": "code",
   "execution_count": 3,
   "metadata": {
    "collapsed": true
   },
   "outputs": [],
   "source": [
    "dbf_df_bus = Dbf5(\"BusStops.dbf\")"
   ]
  },
  {
   "cell_type": "code",
   "execution_count": 4,
   "metadata": {
    "collapsed": true
   },
   "outputs": [],
   "source": [
    "df_bus_stops = dbf_df_bus.to_dataframe()"
   ]
  },
  {
   "cell_type": "code",
   "execution_count": 5,
   "metadata": {
    "scrolled": true
   },
   "outputs": [
    {
     "data": {
      "text/html": [
       "<div>\n",
       "<style>\n",
       "    .dataframe thead tr:only-child th {\n",
       "        text-align: right;\n",
       "    }\n",
       "\n",
       "    .dataframe thead th {\n",
       "        text-align: left;\n",
       "    }\n",
       "\n",
       "    .dataframe tbody tr th {\n",
       "        vertical-align: top;\n",
       "    }\n",
       "</style>\n",
       "<table border=\"1\" class=\"dataframe\">\n",
       "  <thead>\n",
       "    <tr style=\"text-align: right;\">\n",
       "      <th></th>\n",
       "      <th>BSID</th>\n",
       "      <th>LONG</th>\n",
       "      <th>LAT</th>\n",
       "      <th>X_COORD</th>\n",
       "      <th>Y_COORD</th>\n",
       "      <th>ROUTES</th>\n",
       "      <th>STOPNAME</th>\n",
       "      <th>DIR</th>\n",
       "      <th>DISTANCE</th>\n",
       "      <th>POSTAL</th>\n",
       "      <th>PID</th>\n",
       "      <th>LOCATION</th>\n",
       "    </tr>\n",
       "  </thead>\n",
       "  <tbody>\n",
       "    <tr>\n",
       "      <th>0</th>\n",
       "      <td>10910.0</td>\n",
       "      <td>-105.126599</td>\n",
       "      <td>39.761968</td>\n",
       "      <td>3.104975e+06</td>\n",
       "      <td>1.702643e+06</td>\n",
       "      <td>32</td>\n",
       "      <td>W 32nd Ave &amp; Routt St</td>\n",
       "      <td>W</td>\n",
       "      <td>40.0</td>\n",
       "      <td>80033</td>\n",
       "      <td>0</td>\n",
       "      <td>N</td>\n",
       "    </tr>\n",
       "    <tr>\n",
       "      <th>1</th>\n",
       "      <td>10911.0</td>\n",
       "      <td>-105.053605</td>\n",
       "      <td>39.762138</td>\n",
       "      <td>3.125496e+06</td>\n",
       "      <td>1.702797e+06</td>\n",
       "      <td>32</td>\n",
       "      <td>W 32nd Ave &amp; Sheridan Blvd</td>\n",
       "      <td>W</td>\n",
       "      <td>65.0</td>\n",
       "      <td>80212</td>\n",
       "      <td>0</td>\n",
       "      <td>F</td>\n",
       "    </tr>\n",
       "    <tr>\n",
       "      <th>2</th>\n",
       "      <td>10912.0</td>\n",
       "      <td>-105.052799</td>\n",
       "      <td>39.762062</td>\n",
       "      <td>3.125723e+06</td>\n",
       "      <td>1.702771e+06</td>\n",
       "      <td>32</td>\n",
       "      <td>W 32nd Ave &amp; Sheridan Blvd</td>\n",
       "      <td>E</td>\n",
       "      <td>105.0</td>\n",
       "      <td>80212</td>\n",
       "      <td>0</td>\n",
       "      <td>F</td>\n",
       "    </tr>\n",
       "    <tr>\n",
       "      <th>3</th>\n",
       "      <td>10913.0</td>\n",
       "      <td>-105.042560</td>\n",
       "      <td>39.762094</td>\n",
       "      <td>3.128601e+06</td>\n",
       "      <td>1.702797e+06</td>\n",
       "      <td>32</td>\n",
       "      <td>W 32nd Ave &amp; Stuart St</td>\n",
       "      <td>E</td>\n",
       "      <td>65.0</td>\n",
       "      <td>80212</td>\n",
       "      <td>0</td>\n",
       "      <td>F</td>\n",
       "    </tr>\n",
       "    <tr>\n",
       "      <th>4</th>\n",
       "      <td>10914.0</td>\n",
       "      <td>-105.043351</td>\n",
       "      <td>39.762155</td>\n",
       "      <td>3.128379e+06</td>\n",
       "      <td>1.702818e+06</td>\n",
       "      <td>32</td>\n",
       "      <td>W 32nd Ave &amp; Stuart St</td>\n",
       "      <td>W</td>\n",
       "      <td>130.0</td>\n",
       "      <td>80212</td>\n",
       "      <td>0</td>\n",
       "      <td>F</td>\n",
       "    </tr>\n",
       "  </tbody>\n",
       "</table>\n",
       "</div>"
      ],
      "text/plain": [
       "      BSID        LONG        LAT       X_COORD       Y_COORD ROUTES  \\\n",
       "0  10910.0 -105.126599  39.761968  3.104975e+06  1.702643e+06     32   \n",
       "1  10911.0 -105.053605  39.762138  3.125496e+06  1.702797e+06     32   \n",
       "2  10912.0 -105.052799  39.762062  3.125723e+06  1.702771e+06     32   \n",
       "3  10913.0 -105.042560  39.762094  3.128601e+06  1.702797e+06     32   \n",
       "4  10914.0 -105.043351  39.762155  3.128379e+06  1.702818e+06     32   \n",
       "\n",
       "                     STOPNAME DIR  DISTANCE POSTAL  PID LOCATION  \n",
       "0       W 32nd Ave & Routt St   W      40.0  80033    0        N  \n",
       "1  W 32nd Ave & Sheridan Blvd   W      65.0  80212    0        F  \n",
       "2  W 32nd Ave & Sheridan Blvd   E     105.0  80212    0        F  \n",
       "3      W 32nd Ave & Stuart St   E      65.0  80212    0        F  \n",
       "4      W 32nd Ave & Stuart St   W     130.0  80212    0        F  "
      ]
     },
     "execution_count": 5,
     "metadata": {},
     "output_type": "execute_result"
    }
   ],
   "source": [
    "df_bus_stops.head()"
   ]
  },
  {
   "cell_type": "code",
   "execution_count": 6,
   "metadata": {
    "collapsed": true
   },
   "outputs": [],
   "source": [
    "#df_bus_stops.to_csv(\"colorado_bus_stops.csv\")"
   ]
  },
  {
   "cell_type": "markdown",
   "metadata": {},
   "source": [
    "exploring bustops"
   ]
  },
  {
   "cell_type": "code",
   "execution_count": 7,
   "metadata": {},
   "outputs": [
    {
     "data": {
      "text/plain": [
       "(9142, 12)"
      ]
     },
     "execution_count": 7,
     "metadata": {},
     "output_type": "execute_result"
    }
   ],
   "source": [
    "df_bus_stops.shape"
   ]
  },
  {
   "cell_type": "code",
   "execution_count": 8,
   "metadata": {},
   "outputs": [
    {
     "data": {
      "text/plain": [
       "array(['32', '34', '19', '92', '19, 104', '88, 12', '12, 19, 112, 104',\n",
       "       '1, 9', '9', '10', '31, 112', '51, 112', '205', '12, 120', '52, 9',\n",
       "       '1, 16', '1', 'JUMP', '28, 44, 32', '44, 32', '20', '15', '28, 32',\n",
       "       '204', '16, 16L', 'FF7, RX, FF, 122X', '1, 52', '3L, 1, 3, 83',\n",
       "       '3L, 1, 83', '1, 46', 'FF7, RX, FF, 52, 122X', '326', '28',\n",
       "       '205, BOLT, 208', '205, BOLT, BOND, 208', '236, 205, FF, BOLT, AB',\n",
       "       '17', '153', '121', '209, BOND', 'BOND', 'BOND, 208', 'HOP, BOND',\n",
       "       '43', '36L, 59, 29, 36', '46', '3', '16', '15L, 15',\n",
       "       '6, 16, 15L, 15', '6, 16, 15L, 10, 0, 15', '169, 169L, 15',\n",
       "       '16, GS, 16L', '3, 4', '3L, 153, 157, 133', '3L', '3L, 3',\n",
       "       '3L, 3, 83', '3, 100', '3, 33, 4', '100L, 3, 100', '100', '88',\n",
       "       '11, 14, 87L', '21', '42', '45, 42', 'GMCR', '323', '45',\n",
       "       'FF, J, JUMP, STMP', 'FF, JUMP', 'J, JUMP', '206, FF, JUMP',\n",
       "       '206, JUMP', 'FF, J, JUMP', '66', '0L, 66', '0L, 66, 67', '209',\n",
       "       '52', '225, 204', '225, BOND', '225', '225, 204, BOND',\n",
       "       '326, LX, J, BOLT, LD', '48', '59', '36L, 59, 36',\n",
       "       '3L, EV, 0L, 100L, 116X, P, 83, 0, CV, 87L',\n",
       "       '225, 204, DASH, FF, GS, AB, SKIP', '225, 204, DASH, FF, GS, SKIP',\n",
       "       '44', 'DASH, GS, BOND, AB, SKIP', 'DASH, GS, AB, SKIP', '8',\n",
       "       '0L, 0', 'Y, 208, SKIP', '0', '0L, 66, 0',\n",
       "       '225, 204, DASH, GS, AB, SKIP', 'DASH, SKIP',\n",
       "       'DASH, FF, GS, AB, SKIP', 'DASH, FF, GS, BOND, AB, SKIP', '48, 44',\n",
       "       'Y, SKIP', '48, 44, 8', '11, 0, 14', '0L, ART, 0', '206, SKIP',\n",
       "       '11, 0', '401', '0L, 11, 0, 14', '0L, 11, 0',\n",
       "       '209, 225, 204, DASH, FF, GS, SKIP', '44, 8', '206, GS, SKIP',\n",
       "       '225, 204, DASH, SKIP', '24', '169, 139, 169L', '205, N', 'HOP',\n",
       "       '205, HOP, BOLT', '31, 51', 'GMCR, GS', '206, 208', '85',\n",
       "       '36L, 66, 59, 29, 36', '31', '31, 30', '31, 80L', '31, 31L', '16L',\n",
       "       '100, 16', '100, 16, 16L', '15L, FF, 15', 'FF, 15', '327',\n",
       "       'J, STMP', '209, J, STMP', '209, J, HOP, STMP', '10, 40', '40',\n",
       "       '20, 40', '1, 40', '20, 32, 40', '44, RX, 37, 40', 'RX, 40',\n",
       "       '6, 40', '48, 72', '46, 40', '21, 46, 40', '20, RX, 40', '12',\n",
       "       '324', '206', '88, 40', '83, 35', '27', '30L, 30', '50, 30L, 30',\n",
       "       '30L, 27, 30', '1, 33, 9', '21, 4', 'J, BOLT', '28, 12', '12, 34',\n",
       "       '12, 43, 34', '12, 27', '105, 65', '12, 51, 0, 27, 35', '1, 33',\n",
       "       'SKIP', '21, 29, 31, 36, 27, 30', '21, 46', '11',\n",
       "       '36L, 30L, 31, 30', '36L, 30L, 33, 31, 16, 15L, 30', '1, 3, 76',\n",
       "       '403', 'J, BOND', '45, 121', '169L', 'RX, 120', '35',\n",
       "       '12, ART, 27, 35', 'ART', 'RX', '76, 27', '135', '139', '130',\n",
       "       '105, 46, 65', '33', '51', '169, 169L, 133', '133', '39L',\n",
       "       '169, 169L', '73, 105, 46, 27, 65', '73', '38', 'GS', '67, 0',\n",
       "       '104', '120', '208, SKIP', '204, SKIP', '72', '42, 121', '76',\n",
       "       '37', '4', 'GDCR, GS', 'GDCR, 16, GS, 16L', '402L', 'CV', '65',\n",
       "       '19, 52', '401, 0', '6', '45, 169L, 42', '120, 145X', '228',\n",
       "       'DASH', '128', '401, 403', '402L, 403', '401, 402L, 403',\n",
       "       '39L, 92', '88, 112, 104', '72, 76, 52, 55L', '12, 19, 104',\n",
       "       'SJCR', 'J', '8, 128', 'Y', '483', '1, 3, 11, 76, 14',\n",
       "       '31, 51, 92', '101', '100L, 116X', '77', '100L, 77, 85', '401, 85',\n",
       "       '401, 402L, 0, 403', 'LX, LD', '205, J', 'BOLT', 'J, HOP, STMP',\n",
       "       'AA', '205, BOLT', '208', 'FF, GS, BOLT, AB', 'BOLT, N, AB',\n",
       "       'FF, GS, N, AB', '122X', '120X', 'MALL', '169', '77, 85',\n",
       "       '3, 11, 76, 14', '3, 76', '225, LD', 'P', 'P, 483', '83', 'FF',\n",
       "       '3, 46', '324, J', '3L, 3, 6', '100, 52', '1, 20, 15L', '101, 103',\n",
       "       '48, 88, 40', '73, 43, 65', '29', 'STMP', '73, 43, 37, 65',\n",
       "       '72, 52', '80', '112', '153, 66, 483', 'AA, 104X', '105',\n",
       "       '324, 323', '324, LX, J, BOLT, LD', '326, J, BOLT', '73, 6',\n",
       "       '116X', '483, 403', '153, 483', '50, 72, 76, 52', '157', 'N',\n",
       "       '1, 3', '19, 8', '324, 323, BOLT', 'LD', '225, JUMP',\n",
       "       '120X, LX, LD', '101, 107', '72, 76, 52', '169, 45, 42', '10, 157',\n",
       "       '145X', '88, 62', '50, 51', '19, 52, 38', '50, 44, 51', '37, 40',\n",
       "       '50, 52', '48, 88, 40, 62', '48, 88', '6, 10, 121', '72, 31L',\n",
       "       '62', '72, 31', '80L', '80L, 80', '80, 80L', '8, 80',\n",
       "       '100, 31, 51, 92, 104', '45, 169L', '105, 35', 'AT', '402L, 77',\n",
       "       '401, 402L, 77, 85, 403', '36L, 29, 36', 'APCR', '135, 139',\n",
       "       'AT, 131', 'FF, AB', '236', '236, FF, AB', '20, FF', '59, 67',\n",
       "       '36L, 59, 29, 67, 36', '0L', '14', 'DRCR', '73, BWCR', 'LNCR',\n",
       "       'SICR', '323, 327', '15L', '324, 326, 327', 'NICR', '130, 131',\n",
       "       '45, 42, AT, 121', '45, 42, AT, 37, 121', '131', 'GDCR', '72L',\n",
       "       'LGCR', 'MDCR', 'SPCR, LSCR', 'LSCR', 'TNCR', '20, FF, 15', 'EVCR',\n",
       "       'BRCR', 'ORCR', 'PKCR', '324, 326, LX, 327', 'RX, 120, 145X',\n",
       "       '12, 11', '45, 42, 121', '45, 42, 37, 121', 'DASH, 228', '46, 27',\n",
       "       '87L', '10, 121', '31L', '59, 67, 29', '169, 130, 169L',\n",
       "       '112, 120, 128, 228', 'ILCR', '112, 128, 228', 'BMCR', '3, GMCR',\n",
       "       '205, 204', '103', '107', 'LX, J, BOLT, LD', 'A', '66, 24',\n",
       "       '105, 34', '73, 28, 43, 37, 65', '33, 16, 15L', 'EV, 100L, CV',\n",
       "       'AA, 169L, 145X, AB', 'AB', 'AA, 169L, 145X', 'FF7, FF',\n",
       "       '3, 33, 52, 4', '11, 14', 'EV, 100L, 16, CV, GS', '324, 323, 327',\n",
       "       '324, 323, 326', '100L, 100', 'SPCR', '113', '236, AB', 'BWCR',\n",
       "       '209, STMP', '225, 76, 228', '169, 153, 66, 483',\n",
       "       '45, 153, 37, 121', '135, 139, 483', '76, 9', '33, 16', 'FHCR',\n",
       "       '169, 15', '6, 43', '88, 42, 62', 'SHUZ', '104X',\n",
       "       '3L, EV, 0L, 100L, 116X, P, RX, 83, CV, 87L, 16L', '116X, 87L',\n",
       "       'EV, CV', '100L, P', 'RX, 16L', '3L, 83', '0L, 100L', 'FMR',\n",
       "       'FF7, FF, 122X', 'EV, 0L, 100L, 116X, FF7, P, RX, CV, FF, 87L',\n",
       "       '50', '120, 112', 'Y, FF, GS, BOLT, N, AB', 'Y, FF, BOLT, N, AB',\n",
       "       '16, 15L', '30L', '39L, 31L', 'FF, LD', 'FF, LX, LD', '20, LX',\n",
       "       '0, FF', 'FF, 55L', '104X, 31L, 80L, LX, LD', '72L, 120X',\n",
       "       '0, FF, LX, 15, 55L, LD',\n",
       "       '39L, 120X, 104X, 31L, 0, 80L, FF, LX, 15, LD',\n",
       "       '72L, 120X, FF, LX, 55L, LD', '17, 21', '3, 17, 21, 16', '48, 62',\n",
       "       '236, 206, FF', '236, FF', '65, 62', '73, 83', '100L', 'EV',\n",
       "       '72, 100, 52', '67', '100, 59', '100, SJCR, 59, 76, 27',\n",
       "       '206, DASH', '72, 51', '51, 27', '36L, 36', '225, 206', '12, 92',\n",
       "       '12, 35', '40, 35', '50, 51, 4', '50, 11, 51, 4', '100, 16, GS',\n",
       "       '16, GS', '12, 27, 35', '65, 40, 35', '43, 65', '73, 27',\n",
       "       '3L, 3, 83, 46', '206, 204, DASH, FF, AB', '206, 204, DASH',\n",
       "       '206, 204, SKIP', '31, 51, 92, 104', '105, 83', '20, 15L, 15, 9',\n",
       "       '1, 6, 19, 0, 52', '28, 44, 32, 43, 10, 38',\n",
       "       '1, 28, 6, 19, 20, 44, 32, 43, 15L, 10, 0, 52, 38, 15, 9', '1, 0',\n",
       "       '28, FF7, RX, 44, FF, 38, 122X', '6, 15L, 10, 0, 52, 15, 9',\n",
       "       '10, 0, 52, 9', '44, 43', '28, 44, 43, 38', '36L, 1, 48, 30L',\n",
       "       '52, 9, 16L', '48, 8', '38, 52, 9', '20, 52, 38, 15', '52, 38',\n",
       "       '1, 6, 20, 43, 15L, 9', '36L, 30L', '36L, 1, 30L',\n",
       "       '36L, 28, 30L, 44, 43, 38', '19, 20, 8, 52', '20, 8',\n",
       "       '28, 19, 44, 32, 10', '46, 24', '3, 24', '120, TNCR',\n",
       "       '0L, 66, 67, 24', '67, 24', '8, 112', '88, 12, 8',\n",
       "       '28, 44, 32, 38', '31L, 80', '21, 131', '21, 83', '6, 0',\n",
       "       'LX, BOLT, LD', '1, 20, 0, 15', '20, 0, 15',\n",
       "       '324, LX, J, 327, BOLT, LD', '225, DASH, JUMP, LD', 'DASH, JUMP',\n",
       "       '76, 87L', '28, 76, 32', '76, 32', '37, 24', '105, 65, 40, 35',\n",
       "       '105, 20', '206, 204, DASH, AB', '135, 169L', '76, 55L', '100, 21',\n",
       "       'LX, J, LD', '324, 327', '323, J, BOLT', '76, 80', '76, 92',\n",
       "       '76, 87L, 30', '76, 16', '76, 14, 87L', '100, GS', 'DASH, FF',\n",
       "       '11, 76, 14, 87L', '11, 4', '36L, 51, 36', '11, 83', '12, 44',\n",
       "       '72L, 52', '100L, 59', '72, 19, 31L', '19, 31L', '19, 92',\n",
       "       '324, LX, LD', '6, 15L, 10, 0, 15', '28, 6, 32, 10, 52',\n",
       "       '48, 6, 19, 8, 52', '28, 19, 44, 20, 32, 15L, 10, 9',\n",
       "       '6, 19, 0, 52', '28, 32, 10', '12, 80', '130, 121, 131',\n",
       "       'DASH, LD', '225, JUMP, LD', '36L, 29, 36, 27',\n",
       "       '3L, EV, 0L, 100L, 116X, 6, P, 83, 10, 0, CV, 87L', '0L, 3, 0',\n",
       "       '3, 6, 15L', '130, 21, 11', '130, 21', '36L, 30L, 29, 31, 36, 30',\n",
       "       '36L, 30L, 31, 14, 30', '36L, 30L, 29, 36, 27, 30', '11, 12',\n",
       "       '73, 11', '73, 11, 83', '31, 27, 30',\n",
       "       '48, FF7, 104X, FF, LX, LD, AB', '48, FF7, FF, LX, LD',\n",
       "       '206, FF, 208', '153, 157', '153, 15', '20, 31', '12, 51, 0, 35',\n",
       "       '12, ART, 35', '88, 92, 80', '3L, 1, 3, 83, 46',\n",
       "       '36L, 30L, 33, 16, 16L', '39L, AA', '28, 34', '33, 52', '8, 38',\n",
       "       '204, Y, SKIP', '51, 128', 'FF, GS, AB', '36L, 30L, 16, 16L',\n",
       "       '6, 16', '28, 44, 32, 10', '52, 38, 9', '73, 105, 46, 65, 27',\n",
       "       'FF7, RX, 8, FF, 122X', '48, 72, RX', '206, FF', '3L, 133',\n",
       "       '104X, RX', 'JUMP, STMP', '28, 44', '100L, 21', '73, 28',\n",
       "       '236, FF, HOP, BOLT', '72, 72L, 52', '39L, AA, 12',\n",
       "       '39L, AA, 88, 12', '36L, 30L, 29, 36, 30', '36L, 28, 30L, 44, 38',\n",
       "       '101, 109', '130, 153', '36L, 48, 30L', '169, 169L, 157',\n",
       "       '169, 169L, 10, 157', '120X, 8, FF, LX, 38, LD', '29, 36',\n",
       "       '59, 76, 27', '28, 43, 65', '1, 3, 46', '1, 6, 20, 43, 15L',\n",
       "       'BOLT, BOND', '100L, 116X, 77, 85', '44, 37, 40',\n",
       "       '30L, 76, 27, 87L, 30', '120X, 122X', '12, 19, 8, 104', '153, 130',\n",
       "       '12, ART, 0, 27, 35', '12, ART, 0, 35', '1, 83'], dtype=object)"
      ]
     },
     "execution_count": 8,
     "metadata": {},
     "output_type": "execute_result"
    }
   ],
   "source": [
    "df_bus_stops[\"ROUTES\"].unique()"
   ]
  },
  {
   "cell_type": "code",
   "execution_count": 9,
   "metadata": {},
   "outputs": [
    {
     "data": {
      "text/plain": [
       "array([10910., 10911., 10912., ..., 21684., 21685., 21691.])"
      ]
     },
     "execution_count": 9,
     "metadata": {},
     "output_type": "execute_result"
    }
   ],
   "source": [
    "df_bus_stops[\"BSID\"].unique()"
   ]
  },
  {
   "cell_type": "code",
   "execution_count": 10,
   "metadata": {},
   "outputs": [
    {
     "data": {
      "text/plain": [
       "<matplotlib.collections.PathCollection at 0x1130c6c88>"
      ]
     },
     "execution_count": 10,
     "metadata": {},
     "output_type": "execute_result"
    },
    {
     "data": {
      "image/png": "[encoded data removed]",
      "text/plain": [
       "<matplotlib.figure.Figure at 0x112c6d1d0>"
      ]
     },
     "metadata": {},
     "output_type": "display_data"
    }
   ],
   "source": [
    "plt.scatter(df_bus_stops[\"X_COORD\"], df_bus_stops[\"Y_COORD\"], s=.05, c=\"r\")"
   ]
  },
  {
   "cell_type": "markdown",
   "metadata": {},
   "source": [
    "Light rail stations"
   ]
  },
  {
   "cell_type": "markdown",
   "metadata": {},
   "source": [
    "# Light Rail Stops"
   ]
  },
  {
   "cell_type": "markdown",
   "metadata": {},
   "source": [
    "Need address to Log and Lat"
   ]
  },
  {
   "cell_type": "code",
   "execution_count": 11,
   "metadata": {
    "collapsed": true
   },
   "outputs": [],
   "source": [
    "dbf_df_light = Dbf5(\"LightRailStations.dbf\")\n",
    "df_light_rail = dbf_df_light.to_dataframe()"
   ]
  },
  {
   "cell_type": "code",
   "execution_count": 12,
   "metadata": {},
   "outputs": [
    {
     "data": {
      "text/plain": [
       "(68, 8)"
      ]
     },
     "execution_count": 12,
     "metadata": {},
     "output_type": "execute_result"
    }
   ],
   "source": [
    "df_light_rail.shape"
   ]
  },
  {
   "cell_type": "code",
   "execution_count": 13,
   "metadata": {},
   "outputs": [
    {
     "data": {
      "text/html": [
       "<div>\n",
       "<style>\n",
       "    .dataframe thead tr:only-child th {\n",
       "        text-align: right;\n",
       "    }\n",
       "\n",
       "    .dataframe thead th {\n",
       "        text-align: left;\n",
       "    }\n",
       "\n",
       "    .dataframe tbody tr th {\n",
       "        vertical-align: top;\n",
       "    }\n",
       "</style>\n",
       "<table border=\"1\" class=\"dataframe\">\n",
       "  <thead>\n",
       "    <tr style=\"text-align: right;\">\n",
       "      <th></th>\n",
       "      <th>PID</th>\n",
       "      <th>NAME</th>\n",
       "      <th>ADDRESS</th>\n",
       "      <th>AUTOS</th>\n",
       "      <th>RACKS</th>\n",
       "      <th>LOCKERS</th>\n",
       "      <th>DISTRICT</th>\n",
       "      <th>SHELTERS</th>\n",
       "    </tr>\n",
       "  </thead>\n",
       "  <tbody>\n",
       "    <tr>\n",
       "      <th>0</th>\n",
       "      <td>64</td>\n",
       "      <td>Littleton / Mineral Station</td>\n",
       "      <td>7500 S Platte River Pkwy</td>\n",
       "      <td>1227</td>\n",
       "      <td>8</td>\n",
       "      <td>10</td>\n",
       "      <td>H</td>\n",
       "      <td>5</td>\n",
       "    </tr>\n",
       "    <tr>\n",
       "      <th>1</th>\n",
       "      <td>63</td>\n",
       "      <td>Littleton / Downtown Station</td>\n",
       "      <td>5780 S Prince St</td>\n",
       "      <td>361</td>\n",
       "      <td>10</td>\n",
       "      <td>12</td>\n",
       "      <td>H</td>\n",
       "      <td>5</td>\n",
       "    </tr>\n",
       "    <tr>\n",
       "      <th>2</th>\n",
       "      <td>65</td>\n",
       "      <td>Oxford-City of Sheridan Station</td>\n",
       "      <td>4101 Windermere St</td>\n",
       "      <td>0</td>\n",
       "      <td>1</td>\n",
       "      <td>0</td>\n",
       "      <td>H</td>\n",
       "      <td>0</td>\n",
       "    </tr>\n",
       "    <tr>\n",
       "      <th>3</th>\n",
       "      <td>1</td>\n",
       "      <td>Alameda Station</td>\n",
       "      <td>499 S Cherokee St</td>\n",
       "      <td>0</td>\n",
       "      <td>6</td>\n",
       "      <td>8</td>\n",
       "      <td>A</td>\n",
       "      <td>3</td>\n",
       "    </tr>\n",
       "    <tr>\n",
       "      <th>4</th>\n",
       "      <td>71</td>\n",
       "      <td>18th St / California Station</td>\n",
       "      <td>1776 California St</td>\n",
       "      <td>0</td>\n",
       "      <td>1</td>\n",
       "      <td>0</td>\n",
       "      <td>A</td>\n",
       "      <td>0</td>\n",
       "    </tr>\n",
       "  </tbody>\n",
       "</table>\n",
       "</div>"
      ],
      "text/plain": [
       "   PID                             NAME                   ADDRESS  AUTOS  \\\n",
       "0   64      Littleton / Mineral Station  7500 S Platte River Pkwy   1227   \n",
       "1   63     Littleton / Downtown Station          5780 S Prince St    361   \n",
       "2   65  Oxford-City of Sheridan Station        4101 Windermere St      0   \n",
       "3    1                  Alameda Station         499 S Cherokee St      0   \n",
       "4   71     18th St / California Station        1776 California St      0   \n",
       "\n",
       "   RACKS  LOCKERS DISTRICT  SHELTERS  \n",
       "0      8       10        H         5  \n",
       "1     10       12        H         5  \n",
       "2      1        0        H         0  \n",
       "3      6        8        A         3  \n",
       "4      1        0        A         0  "
      ]
     },
     "execution_count": 13,
     "metadata": {},
     "output_type": "execute_result"
    }
   ],
   "source": [
    "df_light_rail.head()"
   ]
  },
  {
   "cell_type": "code",
   "execution_count": 14,
   "metadata": {},
   "outputs": [
    {
     "data": {
      "text/html": [
       "<div>\n",
       "<style>\n",
       "    .dataframe thead tr:only-child th {\n",
       "        text-align: right;\n",
       "    }\n",
       "\n",
       "    .dataframe thead th {\n",
       "        text-align: left;\n",
       "    }\n",
       "\n",
       "    .dataframe tbody tr th {\n",
       "        vertical-align: top;\n",
       "    }\n",
       "</style>\n",
       "<table border=\"1\" class=\"dataframe\">\n",
       "  <thead>\n",
       "    <tr style=\"text-align: right;\">\n",
       "      <th></th>\n",
       "      <th>PID</th>\n",
       "      <th>NAME</th>\n",
       "      <th>ADDRESS</th>\n",
       "      <th>AUTOS</th>\n",
       "      <th>RACKS</th>\n",
       "      <th>LOCKERS</th>\n",
       "      <th>DISTRICT</th>\n",
       "      <th>SHELTERS</th>\n",
       "    </tr>\n",
       "  </thead>\n",
       "  <tbody>\n",
       "    <tr>\n",
       "      <th>17</th>\n",
       "      <td>7</td>\n",
       "      <td>40th / Airport - Gateway Park Station</td>\n",
       "      <td>3900 N Salida St</td>\n",
       "      <td>1079</td>\n",
       "      <td>0</td>\n",
       "      <td>0</td>\n",
       "      <td>B</td>\n",
       "      <td>0</td>\n",
       "    </tr>\n",
       "  </tbody>\n",
       "</table>\n",
       "</div>"
      ],
      "text/plain": [
       "    PID                                   NAME           ADDRESS  AUTOS  \\\n",
       "17    7  40th / Airport - Gateway Park Station  3900 N Salida St   1079   \n",
       "\n",
       "    RACKS  LOCKERS DISTRICT  SHELTERS  \n",
       "17      0        0        B         0  "
      ]
     },
     "execution_count": 14,
     "metadata": {},
     "output_type": "execute_result"
    }
   ],
   "source": [
    "df_light_rail[df_light_rail[\"NAME\"] == \"40th / Airport - Gateway Park Station\"]"
   ]
  },
  {
   "cell_type": "markdown",
   "metadata": {},
   "source": [
    "Address to Lat and Long"
   ]
  },
  {
   "cell_type": "code",
   "execution_count": 25,
   "metadata": {
    "collapsed": true
   },
   "outputs": [],
   "source": [
    "import os\n",
    "from geopy import geocoders\n",
    "from geopy.geocoders import OpenMapQuest"
   ]
  },
  {
   "cell_type": "code",
   "execution_count": null,
   "metadata": {
    "collapsed": true
   },
   "outputs": [],
   "source": [
    "geocoders.OpenMapQuest(api_key=Fbfe4hZNVFljwaY3qSEdGpN2QjLXyaOM)"
   ]
  },
  {
   "cell_type": "code",
   "execution_count": 26,
   "metadata": {},
   "outputs": [],
   "source": [
    "OMP = OpenMapQuest(api_key=\"Fbfe4hZNVFljwaY3qSEdGpN2QjLXyaOM\")"
   ]
  },
  {
   "cell_type": "code",
   "execution_count": 29,
   "metadata": {},
   "outputs": [
    {
     "data": {
      "text/plain": [
       "Location(18th St & California, 1776, California Street, Central Business District, Denver, Denver County, Colorado, 80202, United States of America, (39.7468319, -104.9899893, 0.0))"
      ]
     },
     "execution_count": 29,
     "metadata": {},
     "output_type": "execute_result"
    }
   ],
   "source": [
    "OMP.geocode(\"1776 California St Denver\")"
   ]
  },
  {
   "cell_type": "code",
   "execution_count": 54,
   "metadata": {},
   "outputs": [],
   "source": [
    "location = OMP.geocode(\"7500 S Platte River Pkwy Denver\")\n",
    "#print(location.latitude, location.longitude)"
   ]
  },
  {
   "cell_type": "code",
   "execution_count": 57,
   "metadata": {
    "collapsed": true
   },
   "outputs": [],
   "source": [
    "OMP.geocode(\"7500 S Platte River Pkwy Denver Colorado\")"
   ]
  },
  {
   "cell_type": "code",
   "execution_count": 45,
   "metadata": {},
   "outputs": [
    {
     "name": "stdout",
     "output_type": "stream",
     "text": [
      "error, skipping address...  7500 S Platte River Pkwy\n",
      "error, skipping address...  5780 S Prince St\n",
      "error, skipping address...  4101 Windermere St\n",
      "error, skipping address...  1499 4th Street\n",
      "error, skipping address...  8820 E Caley Ave\n",
      "error, skipping address...  9450 E Dry Creek Rd\n",
      "error, skipping address...  10203 Station Way\n",
      "error, skipping address...  5565 Wadsworth Byp\n",
      "error, skipping address...  1310 N Federal Blvd\n",
      "error, skipping address...  1245 N Knox Ct\n",
      "error, skipping address...  1199 N Perry St\n",
      "error, skipping address...  1298 Wadsworth Blvd\n",
      "error, skipping address...  1311 Oak St\n",
      "error, skipping address...  11601 W 2nd Place\n",
      "error, skipping address...  605 Johnson Rd\n",
      "error, skipping address...  14577 Centrepoint Dr\n",
      "error, skipping address...  2480 Fitzsimons Pkwy\n",
      "error, skipping address...  26800 E 84th Ave\n",
      "error, skipping address...  3200 W 71st Ave\n",
      "error, skipping address...  4800 W 60th Ave\n",
      "error, skipping address...  5301 Kipling St\n",
      "error, skipping address...  12068 W 50th Pl\n",
      "error, skipping address...  4151 S Dallas St\n",
      "error, skipping address...  1901 E Buchtel Blvd\n",
      "error, skipping address...  5652 Greenwood Plaza Blvd\n"
     ]
    }
   ],
   "source": [
    "loc_lat = []\n",
    "loc_long = []\n",
    "\n",
    "for address in df_light_rail.ADDRESS:\n",
    "    try:\n",
    "        inputaddress = address + \" Denver Colorado\"\n",
    "        location = OMP.geocode(inputaddress, timeout=15)\n",
    "        loc_lat.append(location.latitude)\n",
    "        loc_long.append(location.longitude)\n",
    "    except Exception as e:\n",
    "        print(\"error, skipping address... \", address)"
   ]
  },
  {
   "cell_type": "code",
   "execution_count": null,
   "metadata": {},
   "outputs": [],
   "source": []
  },
  {
   "cell_type": "markdown",
   "metadata": {},
   "source": [
    "# Park N Ride Locations"
   ]
  },
  {
   "cell_type": "markdown",
   "metadata": {},
   "source": [
    "Need address to Log and Lat"
   ]
  },
  {
   "cell_type": "code",
   "execution_count": 15,
   "metadata": {
    "collapsed": true
   },
   "outputs": [],
   "source": [
    "dbf_df_pnr = Dbf5(\"ParkNRides.dbf\")\n",
    "df_park_n_ride = dbf_df_pnr.to_dataframe()"
   ]
  },
  {
   "cell_type": "code",
   "execution_count": 16,
   "metadata": {},
   "outputs": [
    {
     "data": {
      "text/plain": [
       "(89, 17)"
      ]
     },
     "execution_count": 16,
     "metadata": {},
     "output_type": "execute_result"
    }
   ],
   "source": [
    "df_park_n_ride.shape"
   ]
  },
  {
   "cell_type": "code",
   "execution_count": 17,
   "metadata": {},
   "outputs": [
    {
     "data": {
      "text/html": [
       "<div>\n",
       "<style>\n",
       "    .dataframe thead tr:only-child th {\n",
       "        text-align: right;\n",
       "    }\n",
       "\n",
       "    .dataframe thead th {\n",
       "        text-align: left;\n",
       "    }\n",
       "\n",
       "    .dataframe tbody tr th {\n",
       "        vertical-align: top;\n",
       "    }\n",
       "</style>\n",
       "<table border=\"1\" class=\"dataframe\">\n",
       "  <thead>\n",
       "    <tr style=\"text-align: right;\">\n",
       "      <th></th>\n",
       "      <th>PID</th>\n",
       "      <th>CLASS</th>\n",
       "      <th>NAME</th>\n",
       "      <th>LOCAL_RT</th>\n",
       "      <th>EXPRESS_RT</th>\n",
       "      <th>LIMITED_RT</th>\n",
       "      <th>REGIONAL_R</th>\n",
       "      <th>SKYRIDE_RT</th>\n",
       "      <th>LINE</th>\n",
       "      <th>AUTOS</th>\n",
       "      <th>RACKS</th>\n",
       "      <th>LOCKERS</th>\n",
       "      <th>SHELTERS</th>\n",
       "      <th>ADDRESS</th>\n",
       "      <th>DISTRICT</th>\n",
       "      <th>ZIPCODE</th>\n",
       "      <th>CITY</th>\n",
       "    </tr>\n",
       "  </thead>\n",
       "  <tbody>\n",
       "    <tr>\n",
       "      <th>0</th>\n",
       "      <td>12</td>\n",
       "      <td>PNR</td>\n",
       "      <td>US85 / 72nd Ave</td>\n",
       "      <td>48-72-72W</td>\n",
       "      <td>NaN</td>\n",
       "      <td>NaN</td>\n",
       "      <td>RC</td>\n",
       "      <td>NaN</td>\n",
       "      <td>NaN</td>\n",
       "      <td>83</td>\n",
       "      <td>4</td>\n",
       "      <td>4</td>\n",
       "      <td>3</td>\n",
       "      <td>7195 Brighton Blvd</td>\n",
       "      <td>K</td>\n",
       "      <td>80022</td>\n",
       "      <td>Commerce City</td>\n",
       "    </tr>\n",
       "    <tr>\n",
       "      <th>1</th>\n",
       "      <td>42</td>\n",
       "      <td>PNR</td>\n",
       "      <td>Alameda / Havana</td>\n",
       "      <td>3L-105</td>\n",
       "      <td>NaN</td>\n",
       "      <td>NaN</td>\n",
       "      <td>NaN</td>\n",
       "      <td>NaN</td>\n",
       "      <td>NaN</td>\n",
       "      <td>128</td>\n",
       "      <td>6</td>\n",
       "      <td>3</td>\n",
       "      <td>1</td>\n",
       "      <td>200 S Havana St</td>\n",
       "      <td>E</td>\n",
       "      <td>80012</td>\n",
       "      <td>Aurora</td>\n",
       "    </tr>\n",
       "    <tr>\n",
       "      <th>2</th>\n",
       "      <td>10</td>\n",
       "      <td>PNR</td>\n",
       "      <td>SH 72 / SH 93</td>\n",
       "      <td>NaN</td>\n",
       "      <td>NaN</td>\n",
       "      <td>NaN</td>\n",
       "      <td>GS</td>\n",
       "      <td>NaN</td>\n",
       "      <td>NaN</td>\n",
       "      <td>14</td>\n",
       "      <td>3</td>\n",
       "      <td>0</td>\n",
       "      <td>2</td>\n",
       "      <td>Hwy 72 / Hwy 93</td>\n",
       "      <td>L</td>\n",
       "      <td>80403</td>\n",
       "      <td>Arvada</td>\n",
       "    </tr>\n",
       "    <tr>\n",
       "      <th>3</th>\n",
       "      <td>7</td>\n",
       "      <td>LRT</td>\n",
       "      <td>40th / Airport - Gateway Park Station</td>\n",
       "      <td>37-42-45-121-169</td>\n",
       "      <td>NaN</td>\n",
       "      <td>NaN</td>\n",
       "      <td>NaN</td>\n",
       "      <td>ATA</td>\n",
       "      <td>NaN</td>\n",
       "      <td>1079</td>\n",
       "      <td>16</td>\n",
       "      <td>10</td>\n",
       "      <td>12</td>\n",
       "      <td>3900 N Salida St</td>\n",
       "      <td>B</td>\n",
       "      <td>80011</td>\n",
       "      <td>Aurora</td>\n",
       "    </tr>\n",
       "    <tr>\n",
       "      <th>4</th>\n",
       "      <td>34</td>\n",
       "      <td>PNR</td>\n",
       "      <td>Olde Town Arvada</td>\n",
       "      <td>50-52-55L-72-72W-76</td>\n",
       "      <td>NaN</td>\n",
       "      <td>NaN</td>\n",
       "      <td>NaN</td>\n",
       "      <td>NaN</td>\n",
       "      <td>NaN</td>\n",
       "      <td>400</td>\n",
       "      <td>4</td>\n",
       "      <td>8</td>\n",
       "      <td>4</td>\n",
       "      <td>7430 Grandview Ave</td>\n",
       "      <td>L</td>\n",
       "      <td>80002</td>\n",
       "      <td>Arvada</td>\n",
       "    </tr>\n",
       "  </tbody>\n",
       "</table>\n",
       "</div>"
      ],
      "text/plain": [
       "   PID CLASS                                   NAME             LOCAL_RT  \\\n",
       "0   12   PNR                        US85 / 72nd Ave            48-72-72W   \n",
       "1   42   PNR                       Alameda / Havana               3L-105   \n",
       "2   10   PNR                          SH 72 / SH 93                  NaN   \n",
       "3    7   LRT  40th / Airport - Gateway Park Station     37-42-45-121-169   \n",
       "4   34   PNR                       Olde Town Arvada  50-52-55L-72-72W-76   \n",
       "\n",
       "   EXPRESS_RT  LIMITED_RT REGIONAL_R SKYRIDE_RT  LINE  AUTOS  RACKS  LOCKERS  \\\n",
       "0         NaN         NaN         RC        NaN   NaN     83      4        4   \n",
       "1         NaN         NaN        NaN        NaN   NaN    128      6        3   \n",
       "2         NaN         NaN         GS        NaN   NaN     14      3        0   \n",
       "3         NaN         NaN        NaN        ATA   NaN   1079     16       10   \n",
       "4         NaN         NaN        NaN        NaN   NaN    400      4        8   \n",
       "\n",
       "   SHELTERS             ADDRESS DISTRICT ZIPCODE           CITY  \n",
       "0         3  7195 Brighton Blvd        K   80022  Commerce City  \n",
       "1         1     200 S Havana St        E   80012         Aurora  \n",
       "2         2     Hwy 72 / Hwy 93        L   80403         Arvada  \n",
       "3        12    3900 N Salida St        B   80011         Aurora  \n",
       "4         4  7430 Grandview Ave        L   80002         Arvada  "
      ]
     },
     "execution_count": 17,
     "metadata": {},
     "output_type": "execute_result"
    }
   ],
   "source": [
    "df_park_n_ride.head()"
   ]
  },
  {
   "cell_type": "code",
   "execution_count": null,
   "metadata": {
    "collapsed": true
   },
   "outputs": [],
   "source": []
  },
  {
   "cell_type": "code",
   "execution_count": null,
   "metadata": {
    "collapsed": true
   },
   "outputs": [],
   "source": []
  },
  {
   "cell_type": "code",
   "execution_count": null,
   "metadata": {
    "collapsed": true
   },
   "outputs": [],
   "source": []
  },
  {
   "cell_type": "markdown",
   "metadata": {},
   "source": [
    "# Bus Stop Times"
   ]
  },
  {
   "cell_type": "code",
   "execution_count": 18,
   "metadata": {
    "collapsed": true
   },
   "outputs": [],
   "source": [
    "df_stop_times = pd.read_table(\"stop_times.txt\", delimiter=\",\")"
   ]
  },
  {
   "cell_type": "code",
   "execution_count": 19,
   "metadata": {},
   "outputs": [
    {
     "data": {
      "text/html": [
       "<div>\n",
       "<style>\n",
       "    .dataframe thead tr:only-child th {\n",
       "        text-align: right;\n",
       "    }\n",
       "\n",
       "    .dataframe thead th {\n",
       "        text-align: left;\n",
       "    }\n",
       "\n",
       "    .dataframe tbody tr th {\n",
       "        vertical-align: top;\n",
       "    }\n",
       "</style>\n",
       "<table border=\"1\" class=\"dataframe\">\n",
       "  <thead>\n",
       "    <tr style=\"text-align: right;\">\n",
       "      <th></th>\n",
       "      <th>trip_id</th>\n",
       "      <th>arrival_time</th>\n",
       "      <th>departure_time</th>\n",
       "      <th>stop_id</th>\n",
       "      <th>stop_sequence</th>\n",
       "      <th>stop_headsign</th>\n",
       "      <th>pickup_type</th>\n",
       "      <th>drop_off_type</th>\n",
       "      <th>shape_dist_traveled</th>\n",
       "    </tr>\n",
       "  </thead>\n",
       "  <tbody>\n",
       "    <tr>\n",
       "      <th>0</th>\n",
       "      <td>112186527</td>\n",
       "      <td>22:38:00</td>\n",
       "      <td>22:39:00</td>\n",
       "      <td>26280</td>\n",
       "      <td>1</td>\n",
       "      <td>NaN</td>\n",
       "      <td>0</td>\n",
       "      <td>1</td>\n",
       "      <td>NaN</td>\n",
       "    </tr>\n",
       "    <tr>\n",
       "      <th>1</th>\n",
       "      <td>112186527</td>\n",
       "      <td>22:41:32</td>\n",
       "      <td>22:41:32</td>\n",
       "      <td>14986</td>\n",
       "      <td>2</td>\n",
       "      <td>NaN</td>\n",
       "      <td>0</td>\n",
       "      <td>0</td>\n",
       "      <td>NaN</td>\n",
       "    </tr>\n",
       "    <tr>\n",
       "      <th>2</th>\n",
       "      <td>112186527</td>\n",
       "      <td>22:42:46</td>\n",
       "      <td>22:42:46</td>\n",
       "      <td>14988</td>\n",
       "      <td>3</td>\n",
       "      <td>NaN</td>\n",
       "      <td>0</td>\n",
       "      <td>0</td>\n",
       "      <td>NaN</td>\n",
       "    </tr>\n",
       "    <tr>\n",
       "      <th>3</th>\n",
       "      <td>112186527</td>\n",
       "      <td>22:44:00</td>\n",
       "      <td>22:44:00</td>\n",
       "      <td>14982</td>\n",
       "      <td>4</td>\n",
       "      <td>NaN</td>\n",
       "      <td>0</td>\n",
       "      <td>0</td>\n",
       "      <td>NaN</td>\n",
       "    </tr>\n",
       "    <tr>\n",
       "      <th>4</th>\n",
       "      <td>112186527</td>\n",
       "      <td>22:45:07</td>\n",
       "      <td>22:45:07</td>\n",
       "      <td>17779</td>\n",
       "      <td>5</td>\n",
       "      <td>NaN</td>\n",
       "      <td>0</td>\n",
       "      <td>0</td>\n",
       "      <td>NaN</td>\n",
       "    </tr>\n",
       "  </tbody>\n",
       "</table>\n",
       "</div>"
      ],
      "text/plain": [
       "     trip_id arrival_time departure_time  stop_id  stop_sequence  \\\n",
       "0  112186527     22:38:00       22:39:00    26280              1   \n",
       "1  112186527     22:41:32       22:41:32    14986              2   \n",
       "2  112186527     22:42:46       22:42:46    14988              3   \n",
       "3  112186527     22:44:00       22:44:00    14982              4   \n",
       "4  112186527     22:45:07       22:45:07    17779              5   \n",
       "\n",
       "   stop_headsign  pickup_type  drop_off_type  shape_dist_traveled  \n",
       "0            NaN            0              1                  NaN  \n",
       "1            NaN            0              0                  NaN  \n",
       "2            NaN            0              0                  NaN  \n",
       "3            NaN            0              0                  NaN  \n",
       "4            NaN            0              0                  NaN  "
      ]
     },
     "execution_count": 19,
     "metadata": {},
     "output_type": "execute_result"
    }
   ],
   "source": [
    "df_stop_times.head()"
   ]
  },
  {
   "cell_type": "code",
   "execution_count": 20,
   "metadata": {},
   "outputs": [
    {
     "data": {
      "text/plain": [
       "(881928, 9)"
      ]
     },
     "execution_count": 20,
     "metadata": {},
     "output_type": "execute_result"
    }
   ],
   "source": [
    "df_stop_times.shape"
   ]
  },
  {
   "cell_type": "code",
   "execution_count": 21,
   "metadata": {},
   "outputs": [
    {
     "data": {
      "text/html": [
       "<div>\n",
       "<style>\n",
       "    .dataframe thead tr:only-child th {\n",
       "        text-align: right;\n",
       "    }\n",
       "\n",
       "    .dataframe thead th {\n",
       "        text-align: left;\n",
       "    }\n",
       "\n",
       "    .dataframe tbody tr th {\n",
       "        vertical-align: top;\n",
       "    }\n",
       "</style>\n",
       "<table border=\"1\" class=\"dataframe\">\n",
       "  <thead>\n",
       "    <tr style=\"text-align: right;\">\n",
       "      <th></th>\n",
       "      <th>trip_id</th>\n",
       "      <th>arrival_time</th>\n",
       "      <th>departure_time</th>\n",
       "      <th>stop_id</th>\n",
       "      <th>stop_sequence</th>\n",
       "      <th>stop_headsign</th>\n",
       "      <th>pickup_type</th>\n",
       "      <th>drop_off_type</th>\n",
       "      <th>shape_dist_traveled</th>\n",
       "    </tr>\n",
       "  </thead>\n",
       "  <tbody>\n",
       "    <tr>\n",
       "      <th>394773</th>\n",
       "      <td>112199261</td>\n",
       "      <td>10:59:37</td>\n",
       "      <td>10:59:37</td>\n",
       "      <td>10910</td>\n",
       "      <td>59</td>\n",
       "      <td>NaN</td>\n",
       "      <td>0</td>\n",
       "      <td>0</td>\n",
       "      <td>NaN</td>\n",
       "    </tr>\n",
       "    <tr>\n",
       "      <th>394823</th>\n",
       "      <td>112199262</td>\n",
       "      <td>10:29:37</td>\n",
       "      <td>10:29:37</td>\n",
       "      <td>10910</td>\n",
       "      <td>43</td>\n",
       "      <td>NaN</td>\n",
       "      <td>0</td>\n",
       "      <td>0</td>\n",
       "      <td>NaN</td>\n",
       "    </tr>\n",
       "    <tr>\n",
       "      <th>394889</th>\n",
       "      <td>112199263</td>\n",
       "      <td>09:59:37</td>\n",
       "      <td>09:59:37</td>\n",
       "      <td>10910</td>\n",
       "      <td>59</td>\n",
       "      <td>NaN</td>\n",
       "      <td>0</td>\n",
       "      <td>0</td>\n",
       "      <td>NaN</td>\n",
       "    </tr>\n",
       "    <tr>\n",
       "      <th>394939</th>\n",
       "      <td>112199264</td>\n",
       "      <td>09:29:37</td>\n",
       "      <td>09:29:37</td>\n",
       "      <td>10910</td>\n",
       "      <td>43</td>\n",
       "      <td>NaN</td>\n",
       "      <td>0</td>\n",
       "      <td>0</td>\n",
       "      <td>NaN</td>\n",
       "    </tr>\n",
       "    <tr>\n",
       "      <th>395005</th>\n",
       "      <td>112199265</td>\n",
       "      <td>09:01:37</td>\n",
       "      <td>09:01:37</td>\n",
       "      <td>10910</td>\n",
       "      <td>59</td>\n",
       "      <td>NaN</td>\n",
       "      <td>0</td>\n",
       "      <td>0</td>\n",
       "      <td>NaN</td>\n",
       "    </tr>\n",
       "    <tr>\n",
       "      <th>395071</th>\n",
       "      <td>112199266</td>\n",
       "      <td>08:31:37</td>\n",
       "      <td>08:31:37</td>\n",
       "      <td>10910</td>\n",
       "      <td>59</td>\n",
       "      <td>NaN</td>\n",
       "      <td>0</td>\n",
       "      <td>0</td>\n",
       "      <td>NaN</td>\n",
       "    </tr>\n",
       "    <tr>\n",
       "      <th>395137</th>\n",
       "      <td>112199267</td>\n",
       "      <td>19:44:10</td>\n",
       "      <td>19:44:10</td>\n",
       "      <td>10910</td>\n",
       "      <td>59</td>\n",
       "      <td>NaN</td>\n",
       "      <td>0</td>\n",
       "      <td>0</td>\n",
       "      <td>NaN</td>\n",
       "    </tr>\n",
       "    <tr>\n",
       "      <th>395187</th>\n",
       "      <td>112199268</td>\n",
       "      <td>15:31:37</td>\n",
       "      <td>15:31:37</td>\n",
       "      <td>10910</td>\n",
       "      <td>43</td>\n",
       "      <td>NaN</td>\n",
       "      <td>0</td>\n",
       "      <td>0</td>\n",
       "      <td>NaN</td>\n",
       "    </tr>\n",
       "    <tr>\n",
       "      <th>395237</th>\n",
       "      <td>112199269</td>\n",
       "      <td>19:01:37</td>\n",
       "      <td>19:01:37</td>\n",
       "      <td>10910</td>\n",
       "      <td>43</td>\n",
       "      <td>NaN</td>\n",
       "      <td>0</td>\n",
       "      <td>0</td>\n",
       "      <td>NaN</td>\n",
       "    </tr>\n",
       "    <tr>\n",
       "      <th>395303</th>\n",
       "      <td>112199270</td>\n",
       "      <td>18:33:37</td>\n",
       "      <td>18:33:37</td>\n",
       "      <td>10910</td>\n",
       "      <td>59</td>\n",
       "      <td>NaN</td>\n",
       "      <td>0</td>\n",
       "      <td>0</td>\n",
       "      <td>NaN</td>\n",
       "    </tr>\n",
       "    <tr>\n",
       "      <th>395353</th>\n",
       "      <td>112199271</td>\n",
       "      <td>17:19:37</td>\n",
       "      <td>17:19:37</td>\n",
       "      <td>10910</td>\n",
       "      <td>43</td>\n",
       "      <td>NaN</td>\n",
       "      <td>0</td>\n",
       "      <td>0</td>\n",
       "      <td>NaN</td>\n",
       "    </tr>\n",
       "    <tr>\n",
       "      <th>395419</th>\n",
       "      <td>112199272</td>\n",
       "      <td>13:00:37</td>\n",
       "      <td>13:00:37</td>\n",
       "      <td>10910</td>\n",
       "      <td>59</td>\n",
       "      <td>NaN</td>\n",
       "      <td>0</td>\n",
       "      <td>0</td>\n",
       "      <td>NaN</td>\n",
       "    </tr>\n",
       "    <tr>\n",
       "      <th>395485</th>\n",
       "      <td>112199273</td>\n",
       "      <td>06:56:10</td>\n",
       "      <td>06:56:10</td>\n",
       "      <td>10910</td>\n",
       "      <td>59</td>\n",
       "      <td>NaN</td>\n",
       "      <td>0</td>\n",
       "      <td>0</td>\n",
       "      <td>NaN</td>\n",
       "    </tr>\n",
       "    <tr>\n",
       "      <th>395535</th>\n",
       "      <td>112199274</td>\n",
       "      <td>18:18:37</td>\n",
       "      <td>18:18:37</td>\n",
       "      <td>10910</td>\n",
       "      <td>43</td>\n",
       "      <td>NaN</td>\n",
       "      <td>0</td>\n",
       "      <td>0</td>\n",
       "      <td>NaN</td>\n",
       "    </tr>\n",
       "    <tr>\n",
       "      <th>395601</th>\n",
       "      <td>112199275</td>\n",
       "      <td>07:44:10</td>\n",
       "      <td>07:44:10</td>\n",
       "      <td>10910</td>\n",
       "      <td>59</td>\n",
       "      <td>NaN</td>\n",
       "      <td>0</td>\n",
       "      <td>0</td>\n",
       "      <td>NaN</td>\n",
       "    </tr>\n",
       "    <tr>\n",
       "      <th>395667</th>\n",
       "      <td>112199276</td>\n",
       "      <td>07:29:10</td>\n",
       "      <td>07:29:10</td>\n",
       "      <td>10910</td>\n",
       "      <td>59</td>\n",
       "      <td>NaN</td>\n",
       "      <td>0</td>\n",
       "      <td>0</td>\n",
       "      <td>NaN</td>\n",
       "    </tr>\n",
       "    <tr>\n",
       "      <th>395717</th>\n",
       "      <td>112199277</td>\n",
       "      <td>11:29:37</td>\n",
       "      <td>11:29:37</td>\n",
       "      <td>10910</td>\n",
       "      <td>43</td>\n",
       "      <td>NaN</td>\n",
       "      <td>0</td>\n",
       "      <td>0</td>\n",
       "      <td>NaN</td>\n",
       "    </tr>\n",
       "    <tr>\n",
       "      <th>395783</th>\n",
       "      <td>112199278</td>\n",
       "      <td>12:00:37</td>\n",
       "      <td>12:00:37</td>\n",
       "      <td>10910</td>\n",
       "      <td>59</td>\n",
       "      <td>NaN</td>\n",
       "      <td>0</td>\n",
       "      <td>0</td>\n",
       "      <td>NaN</td>\n",
       "    </tr>\n",
       "    <tr>\n",
       "      <th>395849</th>\n",
       "      <td>112199279</td>\n",
       "      <td>08:01:37</td>\n",
       "      <td>08:01:37</td>\n",
       "      <td>10910</td>\n",
       "      <td>59</td>\n",
       "      <td>NaN</td>\n",
       "      <td>0</td>\n",
       "      <td>0</td>\n",
       "      <td>NaN</td>\n",
       "    </tr>\n",
       "    <tr>\n",
       "      <th>395915</th>\n",
       "      <td>112199280</td>\n",
       "      <td>18:07:37</td>\n",
       "      <td>18:07:37</td>\n",
       "      <td>10910</td>\n",
       "      <td>59</td>\n",
       "      <td>NaN</td>\n",
       "      <td>0</td>\n",
       "      <td>0</td>\n",
       "      <td>NaN</td>\n",
       "    </tr>\n",
       "    <tr>\n",
       "      <th>395965</th>\n",
       "      <td>112199281</td>\n",
       "      <td>17:52:37</td>\n",
       "      <td>17:52:37</td>\n",
       "      <td>10910</td>\n",
       "      <td>43</td>\n",
       "      <td>NaN</td>\n",
       "      <td>0</td>\n",
       "      <td>0</td>\n",
       "      <td>NaN</td>\n",
       "    </tr>\n",
       "    <tr>\n",
       "      <th>396031</th>\n",
       "      <td>112199282</td>\n",
       "      <td>17:34:37</td>\n",
       "      <td>17:34:37</td>\n",
       "      <td>10910</td>\n",
       "      <td>59</td>\n",
       "      <td>NaN</td>\n",
       "      <td>0</td>\n",
       "      <td>0</td>\n",
       "      <td>NaN</td>\n",
       "    </tr>\n",
       "    <tr>\n",
       "      <th>396097</th>\n",
       "      <td>112199283</td>\n",
       "      <td>17:04:37</td>\n",
       "      <td>17:04:37</td>\n",
       "      <td>10910</td>\n",
       "      <td>59</td>\n",
       "      <td>NaN</td>\n",
       "      <td>0</td>\n",
       "      <td>0</td>\n",
       "      <td>NaN</td>\n",
       "    </tr>\n",
       "    <tr>\n",
       "      <th>396147</th>\n",
       "      <td>112199284</td>\n",
       "      <td>12:30:37</td>\n",
       "      <td>12:30:37</td>\n",
       "      <td>10910</td>\n",
       "      <td>43</td>\n",
       "      <td>NaN</td>\n",
       "      <td>0</td>\n",
       "      <td>0</td>\n",
       "      <td>NaN</td>\n",
       "    </tr>\n",
       "    <tr>\n",
       "      <th>396213</th>\n",
       "      <td>112199285</td>\n",
       "      <td>20:44:10</td>\n",
       "      <td>20:44:10</td>\n",
       "      <td>10910</td>\n",
       "      <td>59</td>\n",
       "      <td>NaN</td>\n",
       "      <td>0</td>\n",
       "      <td>0</td>\n",
       "      <td>NaN</td>\n",
       "    </tr>\n",
       "    <tr>\n",
       "      <th>396263</th>\n",
       "      <td>112199286</td>\n",
       "      <td>16:31:37</td>\n",
       "      <td>16:31:37</td>\n",
       "      <td>10910</td>\n",
       "      <td>43</td>\n",
       "      <td>NaN</td>\n",
       "      <td>0</td>\n",
       "      <td>0</td>\n",
       "      <td>NaN</td>\n",
       "    </tr>\n",
       "    <tr>\n",
       "      <th>396329</th>\n",
       "      <td>112199287</td>\n",
       "      <td>16:01:37</td>\n",
       "      <td>16:01:37</td>\n",
       "      <td>10910</td>\n",
       "      <td>59</td>\n",
       "      <td>NaN</td>\n",
       "      <td>0</td>\n",
       "      <td>0</td>\n",
       "      <td>NaN</td>\n",
       "    </tr>\n",
       "    <tr>\n",
       "      <th>396395</th>\n",
       "      <td>112199288</td>\n",
       "      <td>15:00:37</td>\n",
       "      <td>15:00:37</td>\n",
       "      <td>10910</td>\n",
       "      <td>59</td>\n",
       "      <td>NaN</td>\n",
       "      <td>0</td>\n",
       "      <td>0</td>\n",
       "      <td>NaN</td>\n",
       "    </tr>\n",
       "    <tr>\n",
       "      <th>396445</th>\n",
       "      <td>112199289</td>\n",
       "      <td>14:30:37</td>\n",
       "      <td>14:30:37</td>\n",
       "      <td>10910</td>\n",
       "      <td>43</td>\n",
       "      <td>NaN</td>\n",
       "      <td>0</td>\n",
       "      <td>0</td>\n",
       "      <td>NaN</td>\n",
       "    </tr>\n",
       "    <tr>\n",
       "      <th>396511</th>\n",
       "      <td>112199290</td>\n",
       "      <td>14:00:37</td>\n",
       "      <td>14:00:37</td>\n",
       "      <td>10910</td>\n",
       "      <td>59</td>\n",
       "      <td>NaN</td>\n",
       "      <td>0</td>\n",
       "      <td>0</td>\n",
       "      <td>NaN</td>\n",
       "    </tr>\n",
       "    <tr>\n",
       "      <th>396561</th>\n",
       "      <td>112199291</td>\n",
       "      <td>13:30:37</td>\n",
       "      <td>13:30:37</td>\n",
       "      <td>10910</td>\n",
       "      <td>43</td>\n",
       "      <td>NaN</td>\n",
       "      <td>0</td>\n",
       "      <td>0</td>\n",
       "      <td>NaN</td>\n",
       "    </tr>\n",
       "  </tbody>\n",
       "</table>\n",
       "</div>"
      ],
      "text/plain": [
       "          trip_id arrival_time departure_time  stop_id  stop_sequence  \\\n",
       "394773  112199261     10:59:37       10:59:37    10910             59   \n",
       "394823  112199262     10:29:37       10:29:37    10910             43   \n",
       "394889  112199263     09:59:37       09:59:37    10910             59   \n",
       "394939  112199264     09:29:37       09:29:37    10910             43   \n",
       "395005  112199265     09:01:37       09:01:37    10910             59   \n",
       "395071  112199266     08:31:37       08:31:37    10910             59   \n",
       "395137  112199267     19:44:10       19:44:10    10910             59   \n",
       "395187  112199268     15:31:37       15:31:37    10910             43   \n",
       "395237  112199269     19:01:37       19:01:37    10910             43   \n",
       "395303  112199270     18:33:37       18:33:37    10910             59   \n",
       "395353  112199271     17:19:37       17:19:37    10910             43   \n",
       "395419  112199272     13:00:37       13:00:37    10910             59   \n",
       "395485  112199273     06:56:10       06:56:10    10910             59   \n",
       "395535  112199274     18:18:37       18:18:37    10910             43   \n",
       "395601  112199275     07:44:10       07:44:10    10910             59   \n",
       "395667  112199276     07:29:10       07:29:10    10910             59   \n",
       "395717  112199277     11:29:37       11:29:37    10910             43   \n",
       "395783  112199278     12:00:37       12:00:37    10910             59   \n",
       "395849  112199279     08:01:37       08:01:37    10910             59   \n",
       "395915  112199280     18:07:37       18:07:37    10910             59   \n",
       "395965  112199281     17:52:37       17:52:37    10910             43   \n",
       "396031  112199282     17:34:37       17:34:37    10910             59   \n",
       "396097  112199283     17:04:37       17:04:37    10910             59   \n",
       "396147  112199284     12:30:37       12:30:37    10910             43   \n",
       "396213  112199285     20:44:10       20:44:10    10910             59   \n",
       "396263  112199286     16:31:37       16:31:37    10910             43   \n",
       "396329  112199287     16:01:37       16:01:37    10910             59   \n",
       "396395  112199288     15:00:37       15:00:37    10910             59   \n",
       "396445  112199289     14:30:37       14:30:37    10910             43   \n",
       "396511  112199290     14:00:37       14:00:37    10910             59   \n",
       "396561  112199291     13:30:37       13:30:37    10910             43   \n",
       "\n",
       "        stop_headsign  pickup_type  drop_off_type  shape_dist_traveled  \n",
       "394773            NaN            0              0                  NaN  \n",
       "394823            NaN            0              0                  NaN  \n",
       "394889            NaN            0              0                  NaN  \n",
       "394939            NaN            0              0                  NaN  \n",
       "395005            NaN            0              0                  NaN  \n",
       "395071            NaN            0              0                  NaN  \n",
       "395137            NaN            0              0                  NaN  \n",
       "395187            NaN            0              0                  NaN  \n",
       "395237            NaN            0              0                  NaN  \n",
       "395303            NaN            0              0                  NaN  \n",
       "395353            NaN            0              0                  NaN  \n",
       "395419            NaN            0              0                  NaN  \n",
       "395485            NaN            0              0                  NaN  \n",
       "395535            NaN            0              0                  NaN  \n",
       "395601            NaN            0              0                  NaN  \n",
       "395667            NaN            0              0                  NaN  \n",
       "395717            NaN            0              0                  NaN  \n",
       "395783            NaN            0              0                  NaN  \n",
       "395849            NaN            0              0                  NaN  \n",
       "395915            NaN            0              0                  NaN  \n",
       "395965            NaN            0              0                  NaN  \n",
       "396031            NaN            0              0                  NaN  \n",
       "396097            NaN            0              0                  NaN  \n",
       "396147            NaN            0              0                  NaN  \n",
       "396213            NaN            0              0                  NaN  \n",
       "396263            NaN            0              0                  NaN  \n",
       "396329            NaN            0              0                  NaN  \n",
       "396395            NaN            0              0                  NaN  \n",
       "396445            NaN            0              0                  NaN  \n",
       "396511            NaN            0              0                  NaN  \n",
       "396561            NaN            0              0                  NaN  "
      ]
     },
     "execution_count": 21,
     "metadata": {},
     "output_type": "execute_result"
    }
   ],
   "source": [
    "df_stop_times[df_stop_times[\"stop_id\"] == 10910]"
   ]
  },
  {
   "cell_type": "code",
   "execution_count": null,
   "metadata": {
    "collapsed": true
   },
   "outputs": [],
   "source": []
  },
  {
   "cell_type": "code",
   "execution_count": 63,
   "metadata": {},
   "outputs": [
    {
     "data": {
      "text/plain": [
       "time.struct_time(tm_year=2018, tm_mon=11, tm_mday=28, tm_hour=16, tm_min=24, tm_sec=40, tm_wday=2, tm_yday=332, tm_isdst=0)"
      ]
     },
     "execution_count": 63,
     "metadata": {},
     "output_type": "execute_result"
    }
   ],
   "source": [
    "time.localtime()"
   ]
  },
  {
   "cell_type": "code",
   "execution_count": 67,
   "metadata": {},
   "outputs": [
    {
     "data": {
      "text/plain": [
       "time.struct_time(tm_year=2018, tm_mon=11, tm_mday=28, tm_hour=23, tm_min=26, tm_sec=8, tm_wday=2, tm_yday=332, tm_isdst=0)"
      ]
     },
     "execution_count": 67,
     "metadata": {},
     "output_type": "execute_result"
    }
   ],
   "source": [
    "time.gmtime()"
   ]
  },
  {
   "cell_type": "code",
   "execution_count": null,
   "metadata": {
    "collapsed": true
   },
   "outputs": [],
   "source": []
  }
 ],
 "metadata": {
  "kernelspec": {
   "display_name": "Python 3",
   "language": "python",
   "name": "python3"
  },
  "language_info": {
   "codemirror_mode": {
    "name": "ipython",
    "version": 3
   },
   "file_extension": ".py",
   "mimetype": "text/x-python",
   "name": "python",
   "nbconvert_exporter": "python",
   "pygments_lexer": "ipython3",
   "version": "3.6.3"
  }
 },
 "nbformat": 4,
 "nbformat_minor": 2
}
